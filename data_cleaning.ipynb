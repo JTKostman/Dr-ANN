{
 "cells": [
  {
   "cell_type": "code",
   "execution_count": 56,
   "metadata": {},
   "outputs": [],
   "source": [
    "import pandas as pd;\n",
    "import numpy as np;\n",
    "import scipy as sp;\n",
    "import sklearn;\n",
    "from sklearn.feature_extraction.text import CountVectorizer, TfidfTransformer;\n",
    "import re;"
   ]
  },
  {
   "cell_type": "code",
   "execution_count": 55,
   "metadata": {
    "collapsed": true
   },
   "outputs": [],
   "source": [
    "def load_data():\n",
    "    diagnosis = pd.read_csv('/Users/ravishchawla/Downloads/DIAGNOSES_ICD.csv');\n",
    "    notes = pd.read_csv('/Users/ravishchawla/Downloads/NOTEEVENTS.csv');\n",
    "    icd9 = pd.read_csv('/Users/ravishchawla/Downloads/ICD10_Formatted.csv.txt', sep='|', names=['ICD9_CODE', 'ICD10_CODE', 'desc']);\n",
    "    \n",
    "    return diagnosis, notes, icd9;"
   ]
  },
  {
   "cell_type": "code",
   "execution_count": 3,
   "metadata": {},
   "outputs": [
    {
     "name": "stderr",
     "output_type": "stream",
     "text": [
      "/usr/local/lib/python3.5/site-packages/IPython/core/interactiveshell.py:2717: DtypeWarning: Columns (4,5) have mixed types. Specify dtype option on import or set low_memory=False.\n",
      "  interactivity=interactivity, compiler=compiler, result=result)\n"
     ]
    }
   ],
   "source": [
    "diagnosis, notes, icd9 = load_data();"
   ]
  },
  {
   "cell_type": "code",
   "execution_count": 233,
   "metadata": {},
   "outputs": [
    {
     "data": {
      "text/plain": [
       "(20000, 11)"
      ]
     },
     "execution_count": 233,
     "metadata": {},
     "output_type": "execute_result"
    }
   ],
   "source": [
    "notes_small = notes.ix[len(notes) - 20000:];\n",
    "notes_small.shape"
   ]
  },
  {
   "cell_type": "code",
   "execution_count": 234,
   "metadata": {},
   "outputs": [],
   "source": [
    "#groups = notes.groupby('HADM_ID').apply(lambda row: list(set(row['TEXT'])));"
   ]
  },
  {
   "cell_type": "code",
   "execution_count": 235,
   "metadata": {
    "collapsed": true
   },
   "outputs": [],
   "source": [
    "def get_stopwords():\n",
    "    stop_words = str();\n",
    "    with open('nltk', 'r') as f:\n",
    "        for line in f:\n",
    "            stop_words = stop_words + '\\\\b' + line.strip() + '\\\\b' + '|';\n",
    "\n",
    "    stop_words = stop_words[0:-1];\n",
    "\n",
    "    return stop_words;"
   ]
  },
  {
   "cell_type": "code",
   "execution_count": 236,
   "metadata": {},
   "outputs": [],
   "source": [
    "def clean_text(notes_df):\n",
    "    stop_words = get_stopwords();\n",
    "    \n",
    "    notes_filtered = notes_df['TEXT'].apply(lambda row: re.sub(\"[^a-zA-Z0-9]\", \" \", row.lower()));\n",
    "\n",
    "    notes_nostops = notes_filtered.apply(lambda row: re.sub(stop_words, ' ', row));\n",
    "    notes_final = notes_nostops.apply(lambda row: \" \".join(row.split()));\n",
    "    \n",
    "    notes_df = notes_df.drop('TEXT', axis=1);\n",
    "    notes_df = notes_df.assign(TEXT = notes_final.values)\n",
    "    \n",
    "    return notes_df;"
   ]
  },
  {
   "cell_type": "code",
   "execution_count": 237,
   "metadata": {},
   "outputs": [],
   "source": [
    "notes_filtered = clean_text(notes_small);"
   ]
  },
  {
   "cell_type": "code",
   "execution_count": null,
   "metadata": {},
   "outputs": [],
   "source": []
  },
  {
   "cell_type": "markdown",
   "metadata": {},
   "source": [
    "\n",
    "    for row in ['aa bb cc dd ee ff', 'bb bb cc bb cc', 'aa aa', 'dd dd']:\n",
    "        test = re.sub('(\\\\baa\\\\b|\\\\bbb\\\\b)', ' ', row);\n",
    "        print(test)"
   ]
  },
  {
   "cell_type": "code",
   "execution_count": null,
   "metadata": {},
   "outputs": [],
   "source": []
  },
  {
   "cell_type": "code",
   "execution_count": null,
   "metadata": {},
   "outputs": [],
   "source": []
  },
  {
   "cell_type": "code",
   "execution_count": 238,
   "metadata": {},
   "outputs": [],
   "source": [
    "vectorizer = CountVectorizer();\n",
    "\n",
    "notes_counts = vectorizer.fit_transform(notes_filtered['TEXT']);"
   ]
  },
  {
   "cell_type": "code",
   "execution_count": 239,
   "metadata": {},
   "outputs": [],
   "source": [
    "tfidf_transformer = TfidfTransformer();\n",
    "tfidf_counts = tfidf_transformer.fit_transform(notes_counts);"
   ]
  },
  {
   "cell_type": "code",
   "execution_count": 240,
   "metadata": {},
   "outputs": [
    {
     "name": "stdout",
     "output_type": "stream",
     "text": [
      "(641761957,)\n"
     ]
    }
   ],
   "source": [
    "zero_counts = np.where(tfidf_counts.toarray() == 0)[0].shape\n",
    "print(zero_counts);"
   ]
  },
  {
   "cell_type": "code",
   "execution_count": 241,
   "metadata": {},
   "outputs": [
    {
     "data": {
      "text/plain": [
       "1918043"
      ]
     },
     "execution_count": 241,
     "metadata": {},
     "output_type": "execute_result"
    }
   ],
   "source": [
    "tfidf_counts.shape[0] * tfidf_counts[1].shape[1] - zero_counts[0]"
   ]
  },
  {
   "cell_type": "code",
   "execution_count": null,
   "metadata": {
    "collapsed": true
   },
   "outputs": [],
   "source": []
  }
 ],
 "metadata": {
  "kernelspec": {
   "display_name": "Python 3",
   "language": "python",
   "name": "python3"
  },
  "language_info": {
   "codemirror_mode": {
    "name": "ipython",
    "version": 3
   },
   "file_extension": ".py",
   "mimetype": "text/x-python",
   "name": "python",
   "nbconvert_exporter": "python",
   "pygments_lexer": "ipython3",
   "version": "3.5.2"
  }
 },
 "nbformat": 4,
 "nbformat_minor": 2
}
