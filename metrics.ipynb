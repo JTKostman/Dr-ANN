{
 "cells": [
  {
   "cell_type": "markdown",
   "metadata": {},
   "source": [
    "<h4> Performance Metrics </h4>"
   ]
  },
  {
   "cell_type": "code",
   "execution_count": 1,
   "metadata": {},
   "outputs": [
    {
     "name": "stderr",
     "output_type": "stream",
     "text": [
      "Using TensorFlow backend.\n"
     ]
    }
   ],
   "source": [
    "import numpy as np\n",
    "import pandas as pd\n",
    "\n",
    "from get_labels import get_labels\n",
    "from sklearn.externals import joblib\n",
    "from sklearn.cross_validation import train_test_split\n",
    "from sklearn.cross_validation import ShuffleSplit\n",
    "\n",
    "import keras.backend as K\n",
    "from keras.models import load_model\n",
    "from keras.models import Sequential\n",
    "from keras.layers import Dense, Activation, Reshape\n",
    "from keras.layers import LSTM\n",
    "import subprocess;\n",
    "import sys;"
   ]
  },
  {
   "cell_type": "code",
   "execution_count": 2,
   "metadata": {},
   "outputs": [
    {
     "name": "stderr",
     "output_type": "stream",
     "text": [
      "/home/ubuntu/.local/lib/python2.7/site-packages/IPython/core/interactiveshell.py:2881: DtypeWarning: Columns (4,5) have mixed types. Specify dtype option on import or set low_memory=False.\n",
      "  exec(code_obj, self.user_global_ns, self.user_ns)\n"
     ]
    }
   ],
   "source": [
    "labels = get_labels();"
   ]
  },
  {
   "cell_type": "code",
   "execution_count": 3,
   "metadata": {},
   "outputs": [
    {
     "data": {
      "text/plain": [
       "0"
      ]
     },
     "execution_count": 3,
     "metadata": {},
     "output_type": "execute_result"
    }
   ],
   "source": [
    "import os;\n",
    "os.system(\"taskset -p 0xff %d\" % os.getpid())\n",
    "#import affinity\n",
    "#import multiprocessing\n",
    "#affinity.set_process_affinity_mask(0,2**multiprocessing.cpu_count()-1)"
   ]
  },
  {
   "cell_type": "code",
   "execution_count": 6,
   "metadata": {
    "collapsed": true
   },
   "outputs": [],
   "source": [
    "#Our custom loss function\n",
    "def multiclass_loss(y_true, y_pred):\n",
    "    EPS = 1e-5\n",
    "    y_pred = K.clip(y_pred, EPS, 1 - EPS)\n",
    "    return -K.mean((1 - y_true) * K.log(1 - y_pred) + y_true * K.log(y_pred))"
   ]
  },
  {
   "cell_type": "code",
   "execution_count": 9,
   "metadata": {
    "collapsed": true
   },
   "outputs": [],
   "source": [
    "train_x = joblib.load(\"/mnt/cleaned_tfidf_reduced_420_morning\");"
   ]
  },
  {
   "cell_type": "code",
   "execution_count": 10,
   "metadata": {},
   "outputs": [
    {
     "name": "stdout",
     "output_type": "stream",
     "text": [
      "train_x\n",
      "train_x_reshaped\n",
      "labels_reshaped\n",
      "train_test_split\n",
      "model\n"
     ]
    }
   ],
   "source": [
    "print('train_x');\n",
    "train_x_reshaped = train_x.reshape(1851243,1,1000);\n",
    "print('train_x_reshaped');\n",
    "labels_array = np.array([x for x in labels]);\n",
    "\n",
    "labels_reshaped = labels_array.reshape(1851243, 1, 1070);\n",
    "print('labels_reshaped');\n",
    "x_train, x_test, y_train, y_test = train_test_split(train_x_reshaped, labels_reshaped, test_size=0.20, random_state=1024)\n",
    "\n",
    "print('train_test_split');\n",
    "model = load_model('khot_LSTM_0904.h5', custom_objects={\"multiclass_loss\":multiclass_loss})\n",
    "print('model');"
   ]
  },
  {
   "cell_type": "code",
   "execution_count": 11,
   "metadata": {
    "collapsed": true
   },
   "outputs": [],
   "source": [
    "del train_x_reshaped\n",
    "del labels_array\n",
    "del labels_reshaped\n",
    "del train_x\n",
    "del x_train\n",
    "del y_train"
   ]
  },
  {
   "cell_type": "code",
   "execution_count": 12,
   "metadata": {},
   "outputs": [
    {
     "name": "stdout",
     "output_type": "stream",
     "text": [
      "On 370000 / 370249"
     ]
    }
   ],
   "source": [
    "#predictions = np.array([89, 702, 307, 590,  93, 851, 782, 305, 349, 878, 913,  84, 663, 924, 403]);\n",
    "#predictions = np.array([702, 782,  89, 305, 307, 851, 798,  93, 663,  84, 878, 590,  95, 499, 349]);\n",
    "\n",
    "def get_preds_array():\n",
    "    #all_preds = np.array((1,len(x_test)));\n",
    "    #all_test = np.array((1,len(x_test)));\n",
    "    all_preds = [];\n",
    "    all_test = [];\n",
    "    \n",
    "    #k = 4;\n",
    "    \n",
    "    for idx, test_val in enumerate(x_test):\n",
    "        y_test_val = y_test[idx];\n",
    "        \n",
    "        k = len(y_test_val[y_test_val == 1]);\n",
    "        \n",
    "        pred_val = model.predict(test_val.reshape(1,1,1000))[0][0]\n",
    "        topk = pred_val.argsort()[-1 * k:][::-1]\n",
    "\n",
    "        pred_arr = np.zeros(y_test_val.shape);\n",
    "        pred_arr[0,topk] = 1;\n",
    "        \n",
    "        \n",
    "        all_preds.extend(pred_arr[0]);\n",
    "        all_test.extend(y_test_val[0]);\n",
    "        \n",
    "        if idx % 500 == 0:\n",
    "            sys.stdout.write('\\rOn ' + str(idx) + ' / ' + str(len(x_test)));\n",
    "            \n",
    "    return (all_preds, all_test);\n",
    "\n",
    "(all_preds, all_test) = get_preds_array();"
   ]
  },
  {
   "cell_type": "code",
   "execution_count": 15,
   "metadata": {
    "collapsed": true
   },
   "outputs": [],
   "source": [
    "#joblib.dump((all_preds, all_test), 'predictions_test.pkl')\n",
    "preds_arr = np.array(all_preds);"
   ]
  },
  {
   "cell_type": "code",
   "execution_count": 16,
   "metadata": {
    "collapsed": true
   },
   "outputs": [],
   "source": [
    "del all_preds\n",
    "test_arr = np.array(all_test);"
   ]
  },
  {
   "cell_type": "code",
   "execution_count": 17,
   "metadata": {
    "collapsed": true
   },
   "outputs": [],
   "source": [
    "del all_test"
   ]
  },
  {
   "cell_type": "code",
   "execution_count": 21,
   "metadata": {},
   "outputs": [
    {
     "name": "stdout",
     "output_type": "stream",
     "text": [
      "4645257.0\n",
      "4645257.0\n"
     ]
    }
   ],
   "source": [
    "print(np.sum(preds_arr));\n",
    "print(np.sum(test_arr));"
   ]
  },
  {
   "cell_type": "code",
   "execution_count": 22,
   "metadata": {
    "collapsed": true
   },
   "outputs": [],
   "source": [
    "def tp_rate(predictions, actuals, get_rate=True):\n",
    "    sums = predictions + actuals;\n",
    "    all2s = sums[sums == 2];\n",
    "    if get_rate:\n",
    "        return len(all2s) / float(len(sums));\n",
    "    else:\n",
    "        return len(all2s);"
   ]
  },
  {
   "cell_type": "code",
   "execution_count": 23,
   "metadata": {
    "collapsed": true
   },
   "outputs": [],
   "source": [
    "def fp_rate(predictions, actuals, get_rate=True):\n",
    "    act_not = np.logical_not(actuals).astype(int);\n",
    "    return tp_rate(predictions, act_not, get_rate);"
   ]
  },
  {
   "cell_type": "code",
   "execution_count": 24,
   "metadata": {
    "collapsed": true
   },
   "outputs": [],
   "source": [
    "def fn_rate(predictions, actuals, get_rate=True):\n",
    "    pred_not = np.logical_not(predictions).astype(int);\n",
    "    return tp_rate(pred_not, actuals, get_rate);"
   ]
  },
  {
   "cell_type": "code",
   "execution_count": 25,
   "metadata": {
    "collapsed": true
   },
   "outputs": [],
   "source": [
    "def tn_rate(predictions, actuals, get_rate=True):\n",
    "    pred_not = np.logical_not(predictions).astype(int);\n",
    "    act_not = np.logical_not(actuals).astype(int);\n",
    "    return tp_rate(pred_not, act_not, get_rate);"
   ]
  },
  {
   "cell_type": "code",
   "execution_count": 26,
   "metadata": {
    "collapsed": true
   },
   "outputs": [],
   "source": [
    "def accuracy(predictions, actuals):\n",
    "    tp_val = tp_rate(predictions, actuals, False);\n",
    "    tn_val = tn_rate(predictions, actuals, False);\n",
    "    \n",
    "    return (tp_val + tn_val) / float(len(predictions));"
   ]
  },
  {
   "cell_type": "code",
   "execution_count": 27,
   "metadata": {
    "collapsed": true
   },
   "outputs": [],
   "source": [
    "def precision(predictions, actuals, get_rate=True):\n",
    "    tp = tp_rate(predictions, actuals, get_rate);\n",
    "    fp = fp_rate(predictions, actuals, get_rate);\n",
    "    return (float(tp) / (tp + fp));"
   ]
  },
  {
   "cell_type": "code",
   "execution_count": 28,
   "metadata": {
    "collapsed": true
   },
   "outputs": [],
   "source": [
    "def recall(predictions, actuals, get_rate=True):\n",
    "    tp = tp_rate(predictions, actuals, get_rate);\n",
    "    fn = fn_rate(predictions, actuals, get_rate);\n",
    "    \n",
    "    return (tp / float(tp + fn));"
   ]
  },
  {
   "cell_type": "code",
   "execution_count": 29,
   "metadata": {
    "collapsed": true
   },
   "outputs": [],
   "source": [
    "def confusion_array(predictions, actuals, get_rate=True):\n",
    "    fp = fp_rate(predictions, actuals, get_rate);\n",
    "    tp = tp_rate(predictions, actuals, get_rate);\n",
    "    fn = fn_rate(predictions, actuals, get_rate);\n",
    "    tn = tn_rate(predictions, actuals, get_rate);\n",
    "    \n",
    "    conf = np.array([[tp, fp], [fn, tn]]);\n",
    "\n",
    "    conf_pdf = pd.DataFrame(conf);\n",
    "    conf_pdf.columns = ['1', '0'];\n",
    "    conf_pdf.set_index(np.array(['1', '0']))\n",
    "    \n",
    "    return conf_pdf;"
   ]
  },
  {
   "cell_type": "markdown",
   "metadata": {},
   "source": [
    "k = variable (904 model)"
   ]
  },
  {
   "cell_type": "code",
   "execution_count": 30,
   "metadata": {
    "collapsed": true
   },
   "outputs": [],
   "source": [
    "conf_arr = confusion_array(preds_arr, test_arr)"
   ]
  },
  {
   "cell_type": "code",
   "execution_count": 31,
   "metadata": {},
   "outputs": [
    {
     "data": {
      "text/html": [
       "<div>\n",
       "<table border=\"1\" class=\"dataframe\">\n",
       "  <thead>\n",
       "    <tr style=\"text-align: right;\">\n",
       "      <th></th>\n",
       "      <th>1</th>\n",
       "      <th>0</th>\n",
       "    </tr>\n",
       "  </thead>\n",
       "  <tbody>\n",
       "    <tr>\n",
       "      <th>0</th>\n",
       "      <td>0.003037</td>\n",
       "      <td>0.008688</td>\n",
       "    </tr>\n",
       "    <tr>\n",
       "      <th>1</th>\n",
       "      <td>0.008688</td>\n",
       "      <td>0.979586</td>\n",
       "    </tr>\n",
       "  </tbody>\n",
       "</table>\n",
       "</div>"
      ],
      "text/plain": [
       "          1         0\n",
       "0  0.003037  0.008688\n",
       "1  0.008688  0.979586"
      ]
     },
     "execution_count": 31,
     "metadata": {},
     "output_type": "execute_result"
    }
   ],
   "source": [
    "conf_arr"
   ]
  },
  {
   "cell_type": "code",
   "execution_count": 32,
   "metadata": {
    "collapsed": true
   },
   "outputs": [],
   "source": [
    "conf_vals = confusion_array(preds_arr, test_arr, False)"
   ]
  },
  {
   "cell_type": "code",
   "execution_count": 33,
   "metadata": {},
   "outputs": [
    {
     "data": {
      "text/html": [
       "<div>\n",
       "<table border=\"1\" class=\"dataframe\">\n",
       "  <thead>\n",
       "    <tr style=\"text-align: right;\">\n",
       "      <th></th>\n",
       "      <th>1</th>\n",
       "      <th>0</th>\n",
       "    </tr>\n",
       "  </thead>\n",
       "  <tbody>\n",
       "    <tr>\n",
       "      <th>0</th>\n",
       "      <td>1203247</td>\n",
       "      <td>3442010</td>\n",
       "    </tr>\n",
       "    <tr>\n",
       "      <th>1</th>\n",
       "      <td>3442010</td>\n",
       "      <td>388079163</td>\n",
       "    </tr>\n",
       "  </tbody>\n",
       "</table>\n",
       "</div>"
      ],
      "text/plain": [
       "         1          0\n",
       "0  1203247    3442010\n",
       "1  3442010  388079163"
      ]
     },
     "execution_count": 33,
     "metadata": {},
     "output_type": "execute_result"
    }
   ],
   "source": [
    "conf_vals"
   ]
  },
  {
   "cell_type": "code",
   "execution_count": 34,
   "metadata": {
    "collapsed": true
   },
   "outputs": [],
   "source": [
    "precision_val = precision(preds_arr, test_arr);"
   ]
  },
  {
   "cell_type": "code",
   "execution_count": 35,
   "metadata": {},
   "outputs": [
    {
     "data": {
      "text/plain": [
       "0.2590270032422318"
      ]
     },
     "execution_count": 35,
     "metadata": {},
     "output_type": "execute_result"
    }
   ],
   "source": [
    "precision_val"
   ]
  },
  {
   "cell_type": "code",
   "execution_count": 36,
   "metadata": {
    "collapsed": true
   },
   "outputs": [],
   "source": [
    "recall_val = recall(preds_arr, test_arr);"
   ]
  },
  {
   "cell_type": "code",
   "execution_count": 37,
   "metadata": {},
   "outputs": [
    {
     "data": {
      "text/plain": [
       "0.2590270032422318"
      ]
     },
     "execution_count": 37,
     "metadata": {},
     "output_type": "execute_result"
    }
   ],
   "source": [
    "recall_val"
   ]
  },
  {
   "cell_type": "code",
   "execution_count": 38,
   "metadata": {
    "collapsed": true
   },
   "outputs": [],
   "source": [
    "acc_val = accuracy(preds_arr, test_arr);"
   ]
  },
  {
   "cell_type": "code",
   "execution_count": 39,
   "metadata": {},
   "outputs": [
    {
     "data": {
      "text/plain": [
       "0.9826234141040169"
      ]
     },
     "execution_count": 39,
     "metadata": {},
     "output_type": "execute_result"
    }
   ],
   "source": [
    "acc_val"
   ]
  },
  {
   "cell_type": "code",
   "execution_count": 40,
   "metadata": {
    "collapsed": true
   },
   "outputs": [],
   "source": [
    "from sklearn.metrics import roc_auc_score;"
   ]
  },
  {
   "cell_type": "code",
   "execution_count": 41,
   "metadata": {},
   "outputs": [
    {
     "data": {
      "text/plain": [
       "0.62511781342164274"
      ]
     },
     "execution_count": 41,
     "metadata": {},
     "output_type": "execute_result"
    }
   ],
   "source": [
    "roc_auc_score(test_arr, preds_arr)"
   ]
  }
 ],
 "metadata": {
  "kernelspec": {
   "display_name": "Python 2",
   "language": "python",
   "name": "python2"
  },
  "language_info": {
   "codemirror_mode": {
    "name": "ipython",
    "version": 2
   },
   "file_extension": ".py",
   "mimetype": "text/x-python",
   "name": "python",
   "nbconvert_exporter": "python",
   "pygments_lexer": "ipython2",
   "version": "2.7.12"
  }
 },
 "nbformat": 4,
 "nbformat_minor": 2
}
