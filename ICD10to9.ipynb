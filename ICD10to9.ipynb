{
 "cells": [
  {
   "cell_type": "code",
   "execution_count": 31,
   "metadata": {
    "collapsed": false
   },
   "outputs": [
    {
     "name": "stdout",
     "output_type": "stream",
     "text": [
      "624.3\n"
     ]
    }
   ],
   "source": [
    "import pandas as pd\n",
    "\n",
    "def icd10to9(file):\n",
    "    codes = pd.read_csv(file,sep=\"|\",names=[\"ICD_9\",\"ICD_10\",\"Description\"])\n",
    "    codes = codes.dropna(axis=0)\n",
    "    dict_codes = dict(zip(codes.ICD_10, codes.ICD_9))\n",
    "    return dict_codes\n",
    "\n",
    "file = \"ICD10_Formatted.csv\"\n",
    "codes = icd10to9(file)\n",
    "\n",
    "#Look up ICD10 code to get ICD9 code\n",
    "print(codes[\"N90.6\"])"
   ]
  }
 ],
 "metadata": {
  "kernelspec": {
   "display_name": "Python 3",
   "language": "python",
   "name": "python3"
  },
  "language_info": {
   "codemirror_mode": {
    "name": "ipython",
    "version": 3
   },
   "file_extension": ".py",
   "mimetype": "text/x-python",
   "name": "python",
   "nbconvert_exporter": "python",
   "pygments_lexer": "ipython3",
   "version": "3.5.2"
  }
 },
 "nbformat": 4,
 "nbformat_minor": 2
}
