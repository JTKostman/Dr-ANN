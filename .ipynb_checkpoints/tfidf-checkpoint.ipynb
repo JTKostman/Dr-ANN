{
 "cells": [
  {
   "cell_type": "code",
   "execution_count": 97,
   "metadata": {
    "collapsed": false
   },
   "outputs": [],
   "source": [
    "from sklearn.feature_extraction.text import CountVectorizer, TfidfTransformer\n",
    "data = ['the patient has disease x and y','prescribe him medicine','yo']\n",
    "count_vect = CountVectorizer()\n",
    "#Getting the counts \n",
    "X_train_counts = count_vect.fit_transform(data)\n",
    "counts = X_train_counts.toarray()\n",
    "#Getting the tfidf\n",
    "tfidf_transformer = TfidfTransformer()\n",
    "X_train_tfidf = tfidf_transformer.fit_transform(X_train_counts)\n",
    "tfidf = X_train_tfidf.toarray()\n"
   ]
  },
  {
   "cell_type": "code",
   "execution_count": 105,
   "metadata": {
    "collapsed": false
   },
   "outputs": [
    {
     "name": "stdout",
     "output_type": "stream",
     "text": [
      "TFIDF vector:\n",
      "[[ 0.4472136   0.4472136   0.4472136   0.          0.          0.4472136\n",
      "   0.          0.4472136   0.        ]\n",
      " [ 0.          0.          0.          0.57735027  0.57735027  0.\n",
      "   0.57735027  0.          0.        ]\n",
      " [ 0.          0.          0.          0.          0.          0.          0.\n",
      "   0.          1.        ]]\n",
      "\n",
      "\n",
      "Counts vector:\n",
      "[[1 1 1 0 0 1 0 1 0]\n",
      " [0 0 0 1 1 0 1 0 0]\n",
      " [0 0 0 0 0 0 0 0 1]]\n"
     ]
    }
   ],
   "source": [
    "print('TFIDF vector:')\n",
    "print((X_train_tfidf.toarray()))\n",
    "\n",
    "print('\\n\\nCounts vector:')\n",
    "print(X_train_counts.toarray())"
   ]
  },
  {
   "cell_type": "code",
   "execution_count": 82,
   "metadata": {
    "collapsed": false
   },
   "outputs": [
    {
     "name": "stdout",
     "output_type": "stream",
     "text": [
      "{'strange': 1.4054651081081644, 'is': 1.0, 'very': 1.0, 'nice': 1.4054651081081644, 'this': 1.0}\n"
     ]
    }
   ],
   "source": [
    "from sklearn.feature_extraction.text import TfidfVectorizer\n",
    "corpus = [\"This is very strange\",\n",
    "          \"This is very nice\"]\n",
    "vectorizer = TfidfVectorizer()\n",
    "X = vectorizer.fit_transform(corpus)\n",
    "idf = vectorizer.idf_\n",
    "print(dict(zip(vectorizer.get_feature_names(), idf)))"
   ]
  },
  {
   "cell_type": "code",
   "execution_count": null,
   "metadata": {
    "collapsed": true
   },
   "outputs": [],
   "source": []
  }
 ],
 "metadata": {
  "kernelspec": {
   "display_name": "Python 2",
   "language": "python",
   "name": "python2"
  },
  "language_info": {
   "codemirror_mode": {
    "name": "ipython",
    "version": 2
   },
   "file_extension": ".py",
   "mimetype": "text/x-python",
   "name": "python",
   "nbconvert_exporter": "python",
   "pygments_lexer": "ipython2",
   "version": "2.7.13"
  }
 },
 "nbformat": 4,
 "nbformat_minor": 2
}
