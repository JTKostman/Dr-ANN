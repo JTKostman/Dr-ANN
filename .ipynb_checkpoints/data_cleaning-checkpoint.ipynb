{
 "cells": [
  {
   "cell_type": "code",
   "execution_count": 56,
   "metadata": {},
   "outputs": [],
   "source": [
    "import pandas as pd;\n",
    "import numpy as np;\n",
    "import scipy as sp;\n",
    "import sklearn;\n",
    "from sklearn.feature_extraction.text import CountVectorizer, TfidfTransformer;\n",
    "import re;"
   ]
  },
  {
   "cell_type": "code",
   "execution_count": 55,
   "metadata": {
    "collapsed": true
   },
   "outputs": [],
   "source": [
    "def load_data():\n",
    "    diagnosis = pd.read_csv('/Users/ravishchawla/Downloads/DIAGNOSES_ICD.csv');\n",
    "    notes = pd.read_csv('/Users/ravishchawla/Downloads/NOTEEVENTS.csv');\n",
    "    icd9 = pd.read_csv('/Users/ravishchawla/Downloads/ICD10_Formatted.csv.txt', sep='|', names=['ICD9_CODE', 'ICD10_CODE', 'desc']);\n",
    "    \n",
    "    return diagnosis, notes, icd9;"
   ]
  },
  {
   "cell_type": "code",
   "execution_count": 3,
   "metadata": {},
   "outputs": [
    {
     "name": "stderr",
     "output_type": "stream",
     "text": [
      "/usr/local/lib/python3.5/site-packages/IPython/core/interactiveshell.py:2717: DtypeWarning: Columns (4,5) have mixed types. Specify dtype option on import or set low_memory=False.\n",
      "  interactivity=interactivity, compiler=compiler, result=result)\n"
     ]
    }
   ],
   "source": [
    "diagnosis, notes, icd9 = load_data();"
   ]
  },
  {
   "cell_type": "code",
   "execution_count": 248,
   "metadata": {},
   "outputs": [
    {
     "data": {
      "text/plain": [
       "(20000, 11)"
      ]
     },
     "execution_count": 248,
     "metadata": {},
     "output_type": "execute_result"
    }
   ],
   "source": [
    "notes_small = notes.ix[len(notes) - 20000:];\n",
    "notes_small.shape"
   ]
  },
  {
   "cell_type": "code",
   "execution_count": 249,
   "metadata": {},
   "outputs": [],
   "source": [
    "#groups = notes.groupby('HADM_ID').apply(lambda row: list(set(row['TEXT'])));"
   ]
  },
  {
   "cell_type": "code",
   "execution_count": 250,
   "metadata": {
    "collapsed": true
   },
   "outputs": [],
   "source": [
    "def get_stopwords():\n",
    "    stop_words = str();\n",
    "    with open('nltk', 'r') as f:\n",
    "        for line in f:\n",
    "            stop_words = stop_words + '\\\\b' + line.strip() + '\\\\b' + '|';\n",
    "\n",
    "    stop_words = stop_words[0:-1];\n",
    "\n",
    "    return stop_words;"
   ]
  },
  {
   "cell_type": "code",
   "execution_count": 427,
   "metadata": {},
   "outputs": [],
   "source": [
    "def clean_text(notes_df):\n",
    "    stop_words = get_stopwords();\n",
    "    \n",
    "    #notes_filtered = notes_df['TEXT'].apply(lambda row: re.sub(\"[^a-zA-Z0-9]\", \" \", row.lower()));\n",
    "    notes_filtered = notes_df['TEXT'].apply(lambda row: re.sub(\"21[0-9]{2}.[0-1]?[0-9]{1}.[0-3]?[0-9]{1}.+[0-2]{1}[0-9]{1}:[0-5]{1}[0-9]{1}.+[\\bAM\\b|\\bPM\\b]\", \" \", row));\n",
    "    notes_filtered = notes_filtered.apply(lambda row: re.sub(\"[^a-zA-Z0-9\\.]\", \" \", row.lower()));\n",
    "    #notes_filtered = notes_filtered.apply(lambda row: re.sub(\"\\W\\d+\\.?\\d*\", \"DIGIT\", row));\n",
    "    #notes_filtered = notes_filtered.apply(lambda row: re.sub(\"\\s[a-zA-Z]\\s\", \" \", row));                                        \n",
    "\n",
    "    notes_nostops = notes_filtered.apply(lambda row: re.sub(stop_words, ' ', row));\n",
    "    \n",
    "    notes_final = notes_nostops.apply(lambda row: \" \".join(row.split()));\n",
    "    \n",
    "    #notes_nonums = notes_final.apply(lambda)\n",
    "    \n",
    "    notes_df = notes_df.drop('TEXT', axis=1);\n",
    "    notes_df = notes_df.assign(TEXT = notes_final.values)\n",
    "    \n",
    "    return notes_df;"
   ]
  },
  {
   "cell_type": "code",
   "execution_count": 428,
   "metadata": {},
   "outputs": [],
   "source": [
    "notes_filtered = clean_text(notes_small);"
   ]
  },
  {
   "cell_type": "code",
   "execution_count": 429,
   "metadata": {},
   "outputs": [
    {
     "data": {
      "text/plain": [
       "'chief complaint ## hour events endoscopy sent sent ## ## escorted anesthesia. report called name## md ## rn holding area. received egd showed small gastric avm antral polyps clot ir consulted wouldn place g j given overlying left hepatic lobe bowel p trach g tube j tube doctor first name recs hold heparin gtt ## ## sqh ok feeds via j tube bowel sounds trach sutures ## ## days abd staples ## ## days allergies lorazepam confusion delir last dose antibiotics vancomycin infusions icu medications midazolam versed pantoprazole protonix dilantin heparin sodium prophylaxis fentanyl metoprolol medications changes medical family history review systems unchanged admission except noted review systems flowsheet data vital signs hemodynamic monitoring fluid balance ## hours since ## tmax ## c ## tcurrent ## c ## hr ## ## ## bpm bp ## ## ## ## ## ## ## ## ## mmhg rr ## ## ## insp min spo## ## heart rhythm sr sinus rhythm wgt current ## kg admission ## kg height ## inch total ## ## ml ## ## ml po tf ivf ## ml ## ml blood products total ## ml ## ml urine ## ml ## ml ng stool drains balance ## ml ## ml respiratory support o## delivery device tracheostomy tube ventilator mode cpap psv vt set ## ## ## ml vt spontaneous ## ## ## ml ps ## cmh##o rr set ## rr spontaneous ## peep ## cmh##o fio## ## rsbi deferred rr ## pip ## cmh##o spo## ## abg ## ve ## l min physical examination general appearance intubated nad eyes conjunctiva pupils left ##mm right ##mm non reactive staccotic eye movements. tracking head ears nose throat normocephalic endotracheal tube p tracheostomy mild oozing site rij place without erythema. cardiovascular reg rate ## nl ## ii vi holosystolic murmur apex peripheral vascular dp pt pulses palpable bilaterally respiratory chest vented breath sounds crackles wheezes appreciated abdominal bowel sounds absent non tender minimally distended extremities upper extremity non pitting edema l r. lue marked edema. right picc line place without erythema. skin cool rash neurologic unresponsive sedation. upgoing toes bilaterally. purposeful response deep nail bed pressure upper lower extremities. decerebrate posturing. purposeful movements labs radiology ## k ul ## g dl ## mg dl ## mg dl ## meq l ## meq l ## mg dl ## meq l ## meq l ## ## k ul image##jpg wbc ## ## ## ## ## ## ## hct ## ## ## ## ## ## ## ## ## ## plt ## ## ## telephone fax ## ## ## cr ## ## ## ## ## ## ## glucose ## ## ## ## ## ## ## labs pt ptt inr ## ## ## ca ## mg dl mg ## mg dl po## ## mg dl phenytoin ## corrected phenytoin level albumin ## albumin ## yesterday micro ## ## blood cx ngtd ## ## blood cx ngtd ## ## urine cx final yeast ## ## urine afb pending ## ## stool c diff neg. egd ## ## ## polyps antrum possible small gastric avm otherwise normal egd second part duodenum assessment plan ##f mech mvr hocm bladder ca vp shunt c b ivh recent mrse bacteremia p w pea arrest found unresponsive profound hypoglycemia severe encephalopathy lue rle dvt ugib. . encephalopthy hypoxic hypoglycemic cerebral insults peri arrest without subsequent neurological improvement confer dismal prognosis eeg highly suggestive status epilepticus may masked global slowing dilantin level therapeutic evidence cns infection sampling csf vp shunt radiographic evidence chronic overshunting unlikely contributing present mental status appreciate neuro recs phenytoin level slightly low today. likely bolus phenytoin today discuss neurology get appropriate dose adjustment. recheck level bolus. discuss switch keppra neurology. adjust dose maintain level ## ## last level ## ## ## family prefers aggressive management multiple discussions re goals care. . ugib p egd yesterday resolution clot antrum reassuring given need systemic anticoagulation. required tranfusion ##u prbc ## ## hct remained stable since time. melena hematemesis. transfuse maintain hct ## daily hct active c ppi hospital## . fever continues low grade temps likely ## ## clot burden endovascular infection setting mrse bacteremia. cont vanc x ## weeks start date ## ## f u pending cx data trend wbc fever curve . mvr tee showed mechanical valve supporting need anticoagulation. started heparin ## ## held given trach j tube g tube placement yesterday. restart heparin gtt goal ptt ## ## ## ## per surgery. start coumadin ##hrs heparin . lue rle dvt extensive clot involving lue site subclavian cvl well right iliac femoral veins subclavian line removed ## ## anticoagulation heparin gtt . left pneumothorax stable p pigtail cath removed ## ## appreciate thoracics recs follow clinical status cxr . hyperglycemia well controlled blood sugars ## ## current regimen cont lantus ##u qam ##u insulin tpn cont ss insulin . hypothyroidism elevated tsh ## slightly low free ## ## . started thryoid replacement ## ## cont levothyroxine . ppx cont hep sq pneumoboots. ppi fen tpn replete lytes prn start tf bowel sounds present. access right ij ## ## right picc d c ij today code full code disp ccu case manager start screen. contact daughter name ni ## name ni ## hcp telephone fax ## ## husband name ni telephone fax ## ## icu care nutrition tpn w lipids ## ml hour glycemic control lines multi lumen picc line prophylaxis dvt pneumoboots heparin subq. stress ulcer ppi hospital## vap comments communication comments code status full code disposition'"
      ]
     },
     "execution_count": 429,
     "metadata": {},
     "output_type": "execute_result"
    }
   ],
   "source": [
    "notes_filtered.iloc[380]['TEXT']"
   ]
  },
  {
   "cell_type": "code",
   "execution_count": null,
   "metadata": {
    "collapsed": true
   },
   "outputs": [],
   "source": []
  },
  {
   "cell_type": "code",
   "execution_count": null,
   "metadata": {
    "collapsed": true
   },
   "outputs": [],
   "source": []
  },
  {
   "cell_type": "code",
   "execution_count": null,
   "metadata": {
    "collapsed": true
   },
   "outputs": [],
   "source": []
  },
  {
   "cell_type": "code",
   "execution_count": null,
   "metadata": {
    "collapsed": true
   },
   "outputs": [],
   "source": []
  },
  {
   "cell_type": "markdown",
   "metadata": {},
   "source": [
    "\n",
    "    for row in ['aa bb cc dd ee ff', 'bb bb cc bb cc', 'aa aa', 'dd dd']:\n",
    "        test = re.sub('(\\\\baa\\\\b|\\\\bbb\\\\b)', ' ', row);\n",
    "        print(test)"
   ]
  },
  {
   "cell_type": "code",
   "execution_count": null,
   "metadata": {},
   "outputs": [],
   "source": []
  },
  {
   "cell_type": "code",
   "execution_count": null,
   "metadata": {},
   "outputs": [],
   "source": []
  },
  {
   "cell_type": "code",
   "execution_count": 383,
   "metadata": {},
   "outputs": [],
   "source": [
    "vectorizer = CountVectorizer();\n",
    "\n",
    "notes_counts = vectorizer.fit_transform(notes_filtered['TEXT']);"
   ]
  },
  {
   "cell_type": "code",
   "execution_count": 384,
   "metadata": {},
   "outputs": [],
   "source": [
    "tfidf_transformer = TfidfTransformer();\n",
    "tfidf_counts = tfidf_transformer.fit_transform(notes_counts);"
   ]
  },
  {
   "cell_type": "code",
   "execution_count": 385,
   "metadata": {},
   "outputs": [
    {
     "name": "stdout",
     "output_type": "stream",
     "text": [
      "(594942971,)\n"
     ]
    }
   ],
   "source": [
    "zero_counts = np.where(tfidf_counts.toarray() == 0)[0].shape\n",
    "print(zero_counts);"
   ]
  },
  {
   "cell_type": "code",
   "execution_count": 386,
   "metadata": {},
   "outputs": [
    {
     "data": {
      "text/plain": [
       "1737029"
      ]
     },
     "execution_count": 386,
     "metadata": {},
     "output_type": "execute_result"
    }
   ],
   "source": [
    "tfidf_counts.shape[0] * tfidf_counts[1].shape[1] - zero_counts[0]"
   ]
  },
  {
   "cell_type": "code",
   "execution_count": 369,
   "metadata": {},
   "outputs": [
    {
     "name": "stdout",
     "output_type": "stream",
     "text": [
      "(3148500,)\n"
     ]
    }
   ],
   "source": [
    "zero_counts = np.where(tfidf_counts.toarray() == 0)[0].shape\n",
    "print(zero_counts);"
   ]
  },
  {
   "cell_type": "code",
   "execution_count": 370,
   "metadata": {},
   "outputs": [
    {
     "data": {
      "text/plain": [
       "11500"
      ]
     },
     "execution_count": 370,
     "metadata": {},
     "output_type": "execute_result"
    }
   ],
   "source": [
    "tfidf_counts.shape[0] * tfidf_counts[1].shape[1] - zero_counts[0]"
   ]
  },
  {
   "cell_type": "code",
   "execution_count": 391,
   "metadata": {
    "scrolled": true
   },
   "outputs": [
    {
     "data": {
      "text/plain": [
       "'title chief complaint DIGITf pmh w chest pain found haveDIGITv cad proximal lad lcx total thrombotic occlusion p stenting DIGIT hour events cordis pa catheter placed wedge DIGIT diuresed withDIGITmg iv lasix x2 putting DIGITcc time. low dose metoprolol ordered given due borderline pressures iabp removed. allergies known drug allergies last dose antibiotics infusions heparin sodium DIGIT units hour icu medications furosemide lasix DIGITDIGITDIGIT DIGITDIGIT pm morphine sulfate DIGITDIGITDIGIT DIGITDIGIT pm medications changes medical family history review systems unchanged admission except noted review systems flowsheet data DIGITDIGITDIGIT DIGITDIGIT vital signs hemodynamic monitoring fluid balance DIGIT hours since DIGIT tmax DIGIT DIGIT tcurrent DIGIT DIGIT hr DIGIT DIGIT DIGIT bpm bp DIGITDIGITDIGIT DIGITDIGITDIGIT DIGITDIGITDIGIT mmhg rr DIGIT DIGIT DIGIT insp min spo2 DIGIT heart rhythm sr sinus rhythm height DIGIT inch cvp DIGIT DIGIT DIGIT mmhg pap DIGIT mmhg DIGIT mmhg co ci fick DIGIT min DIGIT min m2 mixed venous o2 sat DIGIT DIGIT total DIGITDIGIT ml DIGIT ml po DIGIT ml DIGIT ml tf ivf DIGITDIGIT ml DIGIT ml blood products total DIGITDIGIT ml DIGIT ml urine DIGITDIGIT ml DIGIT ml ng stool drains balance DIGIT ml DIGIT ml respiratory support o2 delivery device nasal cannula spo2 DIGIT abg DIGITDIGITDIGITDIGITDIGIT physical examination general appearance acute distress thin cardiovascular s1 normal absent s2 normal peripheral vascular right radial pulse assessed left radial pulse assessed right dp pulse present left dp pulse present respiratory chest expansion symmetric breath sounds clear abdominal soft non tender bowel sounds present extremities right lower extremity edema absent left lower extremity edema absent skin assessed neurologic alert orientated x3 responds voice non focal labs radiology DIGIT ul DIGIT dl DIGIT mg dl DIGIT mg dl DIGIT meq DIGIT meq DIGIT mg dl DIGIT meq DIGIT meq DIGIT DIGIT ul image002.jpg DIGITDIGITDIGIT DIGITDIGIT pm DIGITDIGITDIGIT DIGITDIGIT pm DIGITDIGITDIGIT DIGITDIGIT pm DIGITDIGITDIGIT DIGITDIGIT DIGITDIGITDIGIT DIGITDIGIT DIGITDIGITDIGIT DIGITDIGIT DIGITDIGITDIGIT DIGITDIGIT DIGITDIGITDIGIT DIGITDIGIT pm DIGITDIGITDIGIT DIGITDIGIT pm DIGITDIGITDIGIT DIGITDIGIT wbc DIGIT DIGIT DIGIT hct DIGIT DIGIT DIGIT DIGIT DIGIT plt DIGIT DIGIT DIGIT cr DIGIT DIGIT DIGIT DIGIT tropt DIGIT DIGIT DIGIT tco2 DIGIT DIGIT DIGIT glucose DIGIT DIGIT DIGIT DIGIT DIGIT DIGIT labs pt ptt inrDIGITDIGITDIGIT ck ckmb troponin tDIGITDIGITDIGIT lactic acidDIGIT mmol ca DIGIT mg dl mg DIGIT mg dl po4DIGIT mg dl assessment plan DIGITf pmhx w chest pain found haveDIGITv cad proximal lad lcx total thrombotic occlusion p stenting extensive lv systolic dysfunction including apical akinesis iabp place . p stemi patient diffuse disease. thrombotic occlusion proximal lad lcx requiringDIGIT stents. iabp placed due high risk pci maintained pump support. cardiac enzymes trending although appears large mi. put milrinone attempt increase urine output. blood pressures appear stable iabp. continue aspirin plavix c integrilin continue high dose statin hold beta blocker needs inotropic function acei needs pressure c iabp today follow closely cordis swan ganz catheter need long term anticoagulation due apical akinesis currently heparin gtt may need bridge coumadin benefits outweight risks eval today continue tele follow hgba1c lipid panel pt consult future . cardiogenic shock perfusing kidneys well. milrinone help urine output pressures. urine output continued declined despite milrinine fluid boluses. also requiringDIGITl nc increased prior days. c iabp per place central access continue milrinone may need second pressor add tolerated monitor urine output ivf prn tolerates monitor blood pressures . decreased urine output patient foley replaced. multiple fluid boluses iv milrinone. despite efforts urine output decreased. creatinine relative stable. name2 ni DIGIT creatinine ivf respiratory status tolerates continue milrinone . abdominal pain ctap done without clear signs pathology could explain symptoms. patient continues complain vague symptoms. lactates normal. u ctap . back pain hematocrit stable trended slightly. evidence rp dissection ct. likely secondary hemolysis balloon pump. name2 ni DIGIT hct guaiac stools transfuse ischemic hd unstable . anxiety need reassurance often. responded morphine past. sw ativan prn try minimize family meeting icu care nutrition glycemic control lines cordis introducer DIGITDIGITDIGIT DIGITDIGIT pa catheter DIGITDIGITDIGIT DIGITDIGIT prophylaxis dvt stress ulcer vap comments communication comments code status full code disposition'"
      ]
     },
     "execution_count": 391,
     "metadata": {},
     "output_type": "execute_result"
    }
   ],
   "source": [
    "notes_filtered.iloc[0]['TEXT']\n",
    "\n",
    "# Need to remove single charcater items\n",
    "# Need to remove the leading 0 from a digit (i.e. 07 = 7) -OR- replace with \"DIGIT\"\n",
    "# replace dates with \"DATE\"\n"
   ]
  },
  {
   "cell_type": "code",
   "execution_count": 392,
   "metadata": {},
   "outputs": [
    {
     "data": {
      "text/plain": [
       "'TITLE:\\n   Chief Complaint: 87F with no PMH, p/w chest pain, found to have 3V CAD\\n   and proximal LAD and LCX total thrombotic occlusion, now s/p stenting\\n   24 Hour Events:\\n   - cordis, PA catheter placed with wedge -> 30\\n   - diuresed with 40mg IV lasix x2, putting out ~1000cc each time.\\n   - low dose metoprolol ordered, but not given due to borderline\\n   pressures\\n   - IABP removed.\\n   Allergies:\\n   No Known Drug Allergies\\n   Last dose of Antibiotics:\\n   Infusions:\\n   Heparin Sodium - 750 units/hour\\n   Other ICU medications:\\n   Furosemide (Lasix) - [**2189-1-18**] 04:30 PM\\n   Morphine Sulfate - [**2189-1-18**] 08:19 PM\\n   Other medications:\\n   Changes to medical and family history:\\n   Review of systems is unchanged from admission except as noted below\\n   Review of systems:\\n   Flowsheet Data as of  [**2189-1-19**] 07:27 AM\\n   Vital signs\\n   Hemodynamic monitoring\\n   Fluid balance\\n                                                                  24 hours\\n                                                               Since [**90**] AM\\n   Tmax: 37.4\\nC (99.3\\n   Tcurrent: 36.6\\nC (97.8\\n   HR: 96 (95 - 126) bpm\\n   BP: 97/52(63) {90/42(60) - 149/77(87)} mmHg\\n   RR: 21 (15 - 23) insp/min\\n   SpO2: 94%\\n   Heart rhythm: SR (Sinus Rhythm)\\n   Height: 66 Inch\\n    CVP: 9 (5 - 15)mmHg\\n   PAP: (48 mmHg) / (23 mmHg)\\n   CO/CI (Fick): (4.2 L/min) / (2.6 L/min/m2)\\n   Mixed Venous O2% Sat: 58 - 62\\n   Total In:\\n                                                                  1,490 mL\\n                                                                    370 mL\\n   PO:\\n                                                                    270 mL\\n                                                                    240 mL\\n   TF:\\n   IVF:\\n                                                                  1,220 mL\\n                                                                    130 mL\\n   Blood products:\\n   Total out:\\n                                                                  2,166 mL\\n                                                                     93 mL\\n   Urine:\\n                                                                  2,166 mL\\n                                                                     93 mL\\n   NG:\\n   Stool:\\n   Drains:\\n   Balance:\\n                                                                   -676 mL\\n                                                                    277 mL\\n   Respiratory support\\n   O2 Delivery Device: Nasal cannula\\n   SpO2: 94%\\n   ABG: 7.46/32/58/26/0\\n   Physical Examination\\n   General Appearance: No acute distress, Thin\\n   Cardiovascular: (S1: Normal, No(t) Absent), (S2: Normal)\\n   Peripheral Vascular: (Right radial pulse: Not assessed), (Left radial\\n   pulse: Not assessed), (Right DP pulse: Present), (Left DP pulse:\\n   Present)\\n   Respiratory / Chest: (Expansion: Symmetric), (Breath Sounds: Clear : )\\n   Abdominal: Soft, Non-tender, Bowel sounds present\\n   Extremities: Right lower extremity edema: Absent, Left lower extremity\\n   edema: Absent\\n   Skin:  Not assessed\\n   Neurologic: Alert and orientated x3, responds to voice, non-focal\\n   Labs / Radiology\\n   204 K/uL\\n   10.0 g/dL\\n   116 mg/dL\\n   0.8 mg/dL\\n   26 mEq/L\\n   4.0 mEq/L\\n   24 mg/dL\\n   103 mEq/L\\n   136 mEq/L\\n   29.5 %\\n   11.2 K/uL\\n        [image002.jpg]\\n                             [**2189-1-17**]  01:59 PM\\n                             [**2189-1-17**]  02:17 PM\\n                             [**2189-1-17**]  05:00 PM\\n                             [**2189-1-18**]  04:50 AM\\n                             [**2189-1-18**]  08:39 AM\\n                             [**2189-1-18**]  11:35 AM\\n                             [**2189-1-18**]  11:40 AM\\n                             [**2189-1-18**]  04:03 PM\\n                             [**2189-1-18**]  10:16 PM\\n                             [**2189-1-19**]  04:42 AM\\n   WBC\\n   11.7\\n   14.5\\n   11.2\\n   Hct\\n   33.6\\n   29.2\\n   35\\n   32.0\\n   29.5\\n   Plt\\n   261\\n   286\\n   204\\n   Cr\\n   0.9\\n   0.8\\n   0.8\\n   0.8\\n   TropT\\n   14.92\\n   8.46\\n   6.78\\n   TCO2\\n   26\\n   23\\n   23\\n   Glucose\\n   143\\n   132\\n   126\\n   141\\n   141\\n   116\\n   Other labs: PT / PTT / INR:13.4/74.0/1.1, CK / CKMB /\\n   Troponin-T:259/14/6.78, Lactic Acid:1.2 mmol/L, Ca++:7.8 mg/dL,\\n   Mg++:2.6 mg/dL, PO4:4.1 mg/dL\\n   Assessment and Plan\\n   87F with no PMHx p/w chest pain found to have 3V CAD and proximal LAD\\n   and LCx total thrombotic occlusion, now s/p stenting with extensive LV\\n   systolic dysfunction including apical akinesis with IABP in place\\n   #. s/p STEMI: The patient has diffuse disease. She had thrombotic\\n   occlusion of the proximal LAD and LCx requiring 5 stents. IABP placed\\n   due to high risk PCI and maintained for pump support. Cardiac enzymes\\n   trending down although appears to be large MI. Put on milrinone in\\n   attempt to increase urine output. Blood pressures appear to be stable\\n   off IABP.\\n   - continue aspirin, plavix\\n   - d/c integrilin\\n   - continue high dose statin\\n   - hold beta blocker (needs inotropic function) and ACEi (needs\\n   pressure)\\n   - d/c IABP today - follow closely\\n   - cordis with swan ganz catheter\\n   - will need long term anticoagulation due to apical akinesis -\\n   currently on heparin gtt, may need to bridge to coumadin if benefits\\n   outweight risks, will eval today\\n   - continue tele\\n   - follow up HgbA1C and lipid panel\\n   - PT consult in future\\n   #. Cardiogenic Shock: Not perfusing kidneys well. On milrinone to help\\n   with urine output and pressures. Urine output has continued to declined\\n   despite milrinine and fluid boluses. Also requiring 5L NC which has\\n   increased from prior days.\\n   - d/c IABP per above\\n   - place central access\\n   - continue milrinone for now\\n   - may need second pressor - add as tolerated\\n   - monitor urine output - IVF prn if tolerates\\n   - monitor blood pressures\\n   #. Decreased urine output: The patient had her foley replaced. Multiple\\n   fluid boluses and on IV milrinone. Despite these efforts urine output\\n   has decreased. Her creatinine is relative stable.\\n   - [**Name2 (NI) 1174**] creatinine\\n   - IVF as respiratory status tolerates\\n   - continue milrinone\\n   #. Abdominal pain: CTAP done without clear signs of pathology which\\n   could explain symptoms. The patient continues to complain of vague\\n   symptoms. Lactates have been normal.\\n   - f/u CTAP\\n   #. Back pain: Hematocrit was stable and now has trended down slightly.\\n   No evidence of RP or dissection on CT. Likely secondary to hemolysis\\n   from balloon pump.\\n   - [**Name2 (NI) 1174**] hct\\n   - guaiac stools\\n   - transfuse if ischemic or HD unstable\\n   #. Anxiety: Need reassurance often. Has responded to morphine in the\\n   past.\\n   - SW\\n   - ativan prn - try to minimize\\n   - family meeting\\n   ICU Care\\n   Nutrition:\\n   Glycemic Control:\\n   Lines:\\n   Cordis/Introducer - [**2189-1-18**] 11:22 AM\\n   PA Catheter - [**2189-1-18**] 11:26 AM\\n   Prophylaxis:\\n   DVT:\\n   Stress ulcer:\\n   VAP:\\n   Comments:\\n   Communication:  Comments:\\n   Code status: Full code\\n   Disposition:\\n'"
      ]
     },
     "execution_count": 392,
     "metadata": {},
     "output_type": "execute_result"
    }
   ],
   "source": [
    "notes_small.iloc[0]['TEXT']"
   ]
  },
  {
   "cell_type": "code",
   "execution_count": null,
   "metadata": {
    "collapsed": true
   },
   "outputs": [],
   "source": []
  }
 ],
 "metadata": {
  "kernelspec": {
   "display_name": "Python 3",
   "language": "python",
   "name": "python3"
  },
  "language_info": {
   "codemirror_mode": {
    "name": "ipython",
    "version": 3
   },
   "file_extension": ".py",
   "mimetype": "text/x-python",
   "name": "python",
   "nbconvert_exporter": "python",
   "pygments_lexer": "ipython3",
   "version": "3.5.2"
  }
 },
 "nbformat": 4,
 "nbformat_minor": 2
}
