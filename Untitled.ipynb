{
 "cells": [
  {
   "cell_type": "code",
   "execution_count": 33,
   "metadata": {
    "collapsed": false,
    "deletable": true,
    "editable": true
   },
   "outputs": [
    {
     "name": "stdout",
     "output_type": "stream",
     "text": [
      "   h  s icd9\n",
      "0  1  1    A\n",
      "1  1  2    B\n",
      "2  1  3    C\n",
      "3  1  4    A\n",
      "4  1  5    D\n",
      "5  2  1    E\n"
     ]
    }
   ],
   "source": [
    "import pandas as pd \n",
    "import numpy as np\n",
    "row1 = np.array([1,1,1,1,1,2])\n",
    "row2 = np.array([1,2,3,4,5,1])\n",
    "row3 = np.array(['A','B','C','A','D','E'])\n",
    "df = pd.DataFrame(row1)\n",
    "df[1] = row2\n",
    "df[2] = row3\n",
    "name = ['h','s','icd9']\n",
    "df.columns = name\n",
    "print(df)\n",
    "#df.groupby('A').apply(lambda x: x.to_dict(orient='records'))"
   ]
  },
  {
   "cell_type": "code",
   "execution_count": 63,
   "metadata": {
    "collapsed": false
   },
   "outputs": [
    {
     "name": "stdout",
     "output_type": "stream",
     "text": [
      "h\n",
      "1    [B, D, A, C]\n",
      "2             [E]\n",
      "dtype: object\n",
      "   h          icd9\n",
      "0  1  [B, D, A, C]\n",
      "1  2           [E]\n"
     ]
    }
   ],
   "source": [
    "g = df.groupby('h').apply(lambda x: list(set(x['icd9'])))\n",
    "print(g)\n",
    "g_df = pd.DataFrame(g.index.values)\n",
    "g_df[1] = g.values\n",
    "g_df.columns = ['h','icd9']\n",
    "print(g_df)"
   ]
  },
  {
   "cell_type": "code",
   "execution_count": 68,
   "metadata": {
    "collapsed": false
   },
   "outputs": [
    {
     "name": "stdout",
     "output_type": "stream",
     "text": [
      "   h   note\n",
      "0  1  hello\n",
      "1  1   text\n",
      "2  1  text1\n",
      "3  2  other\n",
      "RangeIndex(start=0, stop=4, step=1)\n",
      "RangeIndex(start=0, stop=2, step=1)\n"
     ]
    }
   ],
   "source": [
    "s1 = np.array([1,1,1,2])\n",
    "t = np.array(['hello','text','text1','other'])\n",
    "df_n = pd.DataFrame(s1)\n",
    "df_n[1] = t\n",
    "df_n.columns = ['h','note']\n",
    "print(df_n)\n",
    "print(df_n.index)\n",
    "print(g_df.index)"
   ]
  },
  {
   "cell_type": "code",
   "execution_count": 88,
   "metadata": {
    "collapsed": false
   },
   "outputs": [
    {
     "name": "stdout",
     "output_type": "stream",
     "text": [
      "   h  s icd9\n",
      "0  1  1    A\n",
      "1  1  2    B\n",
      "2  1  3    C\n",
      "3  1  4    A\n",
      "4  1  5    D\n",
      "5  2  1    E\n",
      "\n",
      "   h   note\n",
      "0  1  hello\n",
      "1  1   text\n",
      "2  1  text1\n",
      "3  2  other\n",
      "    Note          icd9\n",
      "0  hello  [B, D, A, C]\n",
      "1   text  [B, D, A, C]\n",
      "2  text1  [B, D, A, C]\n",
      "3  other           [E]\n"
     ]
    }
   ],
   "source": [
    "print(df)\n",
    "print()\n",
    "print(df_n)\n",
    "\n",
    "tot = g_df.join(df_n.set_index('h'),on='h')\n",
    "notes = tot.note.values\n",
    "icd9s = tot.icd9.values\n",
    "f_df = pd.DataFrame(notes)\n",
    "f_df[1] = icd9s\n",
    "f_df.columns = ['Note','icd9']\n",
    "print(f_df)"
   ]
  },
  {
   "cell_type": "code",
   "execution_count": 93,
   "metadata": {
    "collapsed": true
   },
   "outputs": [],
   "source": [
    "z = list(zip(f_df.Note,f_df.icd9))"
   ]
  },
  {
   "cell_type": "code",
   "execution_count": 94,
   "metadata": {
    "collapsed": false
   },
   "outputs": [
    {
     "name": "stdout",
     "output_type": "stream",
     "text": [
      "[('hello', ['B', 'D', 'A', 'C']), ('text', ['B', 'D', 'A', 'C']), ('text1', ['B', 'D', 'A', 'C']), ('other', ['E'])]\n"
     ]
    }
   ],
   "source": [
    "print(z)"
   ]
  },
  {
   "cell_type": "code",
   "execution_count": 97,
   "metadata": {
    "collapsed": false
   },
   "outputs": [
    {
     "name": "stdout",
     "output_type": "stream",
     "text": [
      "[['hello', 'B'], ['hello', 'D'], ['hello', 'A'], ['hello', 'C'], ['text', 'B'], ['text', 'D'], ['text', 'A'], ['text', 'C'], ['text1', 'B'], ['text1', 'D'], ['text1', 'A'], ['text1', 'C'], ['other', 'E']]\n"
     ]
    }
   ],
   "source": [
    "samples = []\n",
    "for i in z: \n",
    "    for j in i[1]: \n",
    "        samples.append([i[0],j])\n",
    "        \n",
    "print(samples)\n",
    "\n"
   ]
  },
  {
   "cell_type": "code",
   "execution_count": null,
   "metadata": {
    "collapsed": true
   },
   "outputs": [],
   "source": []
  }
 ],
 "metadata": {
  "kernelspec": {
   "display_name": "Python 3",
   "language": "python",
   "name": "python3"
  },
  "language_info": {
   "codemirror_mode": {
    "name": "ipython",
    "version": 3
   },
   "file_extension": ".py",
   "mimetype": "text/x-python",
   "name": "python",
   "nbconvert_exporter": "python",
   "pygments_lexer": "ipython3",
   "version": "3.5.2"
  }
 },
 "nbformat": 4,
 "nbformat_minor": 2
}
